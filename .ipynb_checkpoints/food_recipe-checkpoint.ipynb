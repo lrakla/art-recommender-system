{
 "cells": [
  {
   "cell_type": "code",
   "execution_count": 1,
   "metadata": {},
   "outputs": [],
   "source": [
    "import gzip\n",
    "import pandas as pd\n",
    "from collections import defaultdict\n",
    "import math\n",
    "import scipy.optimize\n",
    "from sklearn import svm\n",
    "import numpy as np\n",
    "import string\n",
    "import random\n",
    "import string\n",
    "from sklearn import linear_model\n",
    "import tensorflow as tf\n",
    "import warnings\n",
    "warnings.filterwarnings(\"ignore\")"
   ]
  },
  {
   "cell_type": "code",
   "execution_count": 2,
   "metadata": {},
   "outputs": [],
   "source": [
    "def readAppr(path):\n",
    "    f = gzip.open(path, 'rt')\n",
    "    for l in f:\n",
    "        u,i,ts = l.strip().split(' ')\n",
    "        yield u,i,ts\n",
    "\n",
    "def readOwners(path):\n",
    "    f = gzip.open(path, 'rt')\n",
    "    for l in f:\n",
    "        u,i = l.strip().split(' ')\n",
    "        yield u,i\n"
   ]
  },
  {
   "cell_type": "code",
   "execution_count": 11,
   "metadata": {},
   "outputs": [],
   "source": [
    "interactions = []\n",
    "#data = pd.read_csv(\"interactions_train.csv\")\n",
    "data = pd.read_csv(\"raw_interactions.csv\")\n",
    "data = data.sample(50000)"
   ]
  },
  {
   "cell_type": "markdown",
   "metadata": {},
   "source": [
    "## Exploratory Data Analysis"
   ]
  },
  {
   "cell_type": "code",
   "execution_count": 12,
   "metadata": {},
   "outputs": [
    {
     "data": {
      "text/plain": [
       "(50000, 5)"
      ]
     },
     "execution_count": 12,
     "metadata": {},
     "output_type": "execute_result"
    }
   ],
   "source": [
    "#size of dataset\n",
    "data.shape"
   ]
  },
  {
   "cell_type": "code",
   "execution_count": 13,
   "metadata": {},
   "outputs": [
    {
     "data": {
      "text/plain": [
       "user_id                                                 584814\n",
       "recipe_id                                               280457\n",
       "date                                                2008-06-18\n",
       "rating                                                       5\n",
       "review       Yum! I'd never had a watermelon Mai Tai before...\n",
       "Name: 422585, dtype: object"
      ]
     },
     "execution_count": 13,
     "metadata": {},
     "output_type": "execute_result"
    }
   ],
   "source": [
    "data.iloc[0,:]"
   ]
  },
  {
   "cell_type": "code",
   "execution_count": 14,
   "metadata": {},
   "outputs": [],
   "source": [
    "recipeperUser = defaultdict(list)\n",
    "userperRecipe  = defaultdict(list)\n",
    "ratingsperUser = defaultdict(list)\n",
    "for index, row in data.iterrows():\n",
    "    u,i,r =  row['user_id'], row['recipe_id'],row['rating']\n",
    "    recipeperUser[u].append(i)\n",
    "    userperRecipe[i].append(u)\n",
    "    ratingsperUser[u].append((i,r))\n"
   ]
  },
  {
   "cell_type": "code",
   "execution_count": 15,
   "metadata": {},
   "outputs": [
    {
     "data": {
      "text/plain": [
       "(22078, 33916)"
      ]
     },
     "execution_count": 15,
     "metadata": {},
     "output_type": "execute_result"
    }
   ],
   "source": [
    "x = len(recipeperUser) #no of users\n",
    "y = len(userperRecipe) #no of recipes\n",
    "x,y"
   ]
  },
  {
   "cell_type": "markdown",
   "metadata": {},
   "source": [
    "### End of code "
   ]
  },
  {
   "cell_type": "code",
   "execution_count": null,
   "metadata": {},
   "outputs": [],
   "source": [
    "imgCountAll = defaultdict(int)\n",
    "totalliked = 0\n",
    "\n",
    "for user,img,_ in interactions:\n",
    "    imgCountAll[img] += 1\n",
    "    totalliked+= 1\n",
    "\n",
    "mostPopular = [(imgCountAll[x], x) for x in imgCountAll]\n",
    "mostPopular.sort()\n",
    "mostPopular.reverse()\n",
    "print(totalliked)\n"
   ]
  },
  {
   "cell_type": "code",
   "execution_count": null,
   "metadata": {},
   "outputs": [],
   "source": [
    "return2 = set()\n",
    "count = 0\n",
    "threshold = 0.75\n",
    "for imgCount, img in mostPopular:\n",
    "    count += imgCount\n",
    "    return2.add(img)\n",
    "    if count > totalliked*threshold:\n",
    "        break"
   ]
  },
  {
   "cell_type": "code",
   "execution_count": null,
   "metadata": {},
   "outputs": [],
   "source": [
    "def Jaccard(s1, s2):\n",
    "  if not isinstance(s1,set):\n",
    "    s1 = set(s1)\n",
    "  if not isinstance(s2,set):\n",
    "    s2 = set(s2)\n",
    "  numer = len(s1.intersection(s2))\n",
    "  denom = len(s1.union(s2))\n",
    "  if denom == 0:\n",
    "      return 0\n",
    "  return numer / denom\n",
    "\n",
    "def predictRead(user, img):\n",
    "  Jsimilarities = []\n",
    "  for d in imgsperUser[user]:\n",
    "    #d is img user has liked in training\n",
    "    if d == img: continue\n",
    "    Jsimilarities.append(Jaccard(userperImgs[img],userperImgs[d]))\n",
    "  if Jsimilarities and max(Jsimilarities)> 0.003 or img in return2:\n",
    "    return 1\n",
    "  return 0\n",
    "  # mx = 0\n",
    "  # if Jsimilarities:\n",
    "  #     mx = max(Jsimilarities)\n",
    "  # elif len(Jsimilarities) == 0:\n",
    "  #   mx = 0\n",
    "  # if img in return2:\n",
    "  #     return 1 + mx\n",
    "  # return mx"
   ]
  },
  {
   "cell_type": "code",
   "execution_count": null,
   "metadata": {},
   "outputs": [],
   "source": [
    "likedValid = interactions[990000:]\n",
    "likedValid = [i + (1,) for i in likedValid]\n",
    "\n",
    "\n",
    "imgsperUserVal = defaultdict(list)\n",
    "for u,img,_,_ in likedValid:\n",
    "    imgsperUserVal[u].append(img)\n",
    "\n",
    "len(likedValid)"
   ]
  },
  {
   "cell_type": "code",
   "execution_count": null,
   "metadata": {},
   "outputs": [],
   "source": [
    "all_books = set(userperImgs.keys())\n",
    "val_pairs = set()\n",
    "for user in imgsperUserVal.keys():\n",
    "  no_books_read = len(imgsperUserVal[user])\n",
    "  books_not_read = list(all_books.difference(set(imgsperUser[user])))\n",
    "  for _ in range(no_books_read):\n",
    "    book = random.choice(books_not_read)\n",
    "    if (user,book, 'NA', 0) not in val_pairs:\n",
    "      book = book\n",
    "    else:\n",
    "      while (user,book, 'NA', 0) in val_pairs:\n",
    "        book = random.choice(books_not_read)\n",
    "    val_pairs.add((user,book,'NA',0))\n",
    "    likedValid.append((user,book,'NA',0)) \n",
    "\n",
    "len(likedValid)"
   ]
  },
  {
   "cell_type": "code",
   "execution_count": null,
   "metadata": {},
   "outputs": [],
   "source": [
    "preds = [predictRead(u,b) for u,b,_,_ in likedValid]\n",
    "correct = sum([likedValid[i][3]  == preds[i] for i in range(len(likedValid))])\n",
    "y = [x for _,_,_,x in likedValid]\n",
    "acc4 = correct/len(preds)\n",
    "acc4 "
   ]
  },
  {
   "cell_type": "code",
   "execution_count": null,
   "metadata": {},
   "outputs": [],
   "source": []
  }
 ],
 "metadata": {
  "kernelspec": {
   "display_name": "Python 3 (ipykernel)",
   "language": "python",
   "name": "python3"
  },
  "language_info": {
   "codemirror_mode": {
    "name": "ipython",
    "version": 3
   },
   "file_extension": ".py",
   "mimetype": "text/x-python",
   "name": "python",
   "nbconvert_exporter": "python",
   "pygments_lexer": "ipython3",
   "version": "3.9.7"
  },
  "vscode": {
   "interpreter": {
    "hash": "b9b97644c8ae1a16cf1dd9c5681dbbcd445c01cd0b31e49e4ce22d5a8dc8aae8"
   }
  }
 },
 "nbformat": 4,
 "nbformat_minor": 2
}
