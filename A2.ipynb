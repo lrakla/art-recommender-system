{
 "cells": [
  {
   "cell_type": "code",
   "execution_count": 1,
   "metadata": {},
   "outputs": [
    {
     "name": "stdout",
     "output_type": "stream",
     "text": [
      "Collecting surprise\n",
      "  Downloading surprise-0.1-py2.py3-none-any.whl (1.8 kB)\n",
      "Collecting scikit-surprise\n",
      "  Downloading scikit-surprise-1.1.3.tar.gz (771 kB)\n",
      "     -------------------------------------- 772.0/772.0 kB 2.7 MB/s eta 0:00:00\n",
      "  Preparing metadata (setup.py): started\n",
      "  Preparing metadata (setup.py): finished with status 'done'\n",
      "Requirement already satisfied: joblib>=1.0.0 in c:\\users\\rakla\\anaconda3\\lib\\site-packages (from scikit-surprise->surprise) (1.1.0)\n",
      "Requirement already satisfied: numpy>=1.17.3 in c:\\users\\rakla\\anaconda3\\lib\\site-packages (from scikit-surprise->surprise) (1.19.5)\n",
      "Requirement already satisfied: scipy>=1.3.2 in c:\\users\\rakla\\anaconda3\\lib\\site-packages (from scikit-surprise->surprise) (1.8.1)\n",
      "Building wheels for collected packages: scikit-surprise\n",
      "  Building wheel for scikit-surprise (setup.py): started\n",
      "  Building wheel for scikit-surprise (setup.py): finished with status 'done'\n",
      "  Created wheel for scikit-surprise: filename=scikit_surprise-1.1.3-cp38-cp38-win_amd64.whl size=1131265 sha256=b985d433a2192cf1c5ac6b3325e4dafbf749a9af7c1d2f941de2229ea8645c85\n",
      "  Stored in directory: c:\\users\\rakla\\appdata\\local\\pip\\cache\\wheels\\af\\db\\86\\2c18183a80ba05da35bf0fb7417aac5cddbd93bcb1b92fd3ea\n",
      "Successfully built scikit-surprise\n",
      "Installing collected packages: scikit-surprise, surprise\n",
      "Successfully installed scikit-surprise-1.1.3 surprise-0.1\n",
      "Note: you may need to restart the kernel to use updated packages.\n"
     ]
    }
   ],
   "source": [
    "%pip install surprise"
   ]
  },
  {
   "cell_type": "code",
   "execution_count": 2,
   "metadata": {},
   "outputs": [],
   "source": [
    "import gzip\n",
    "from collections import defaultdict\n",
    "import math\n",
    "import scipy.optimize\n",
    "from sklearn import svm\n",
    "import numpy as np\n",
    "import string\n",
    "import random\n",
    "import string\n",
    "from sklearn import linear_model\n",
    "import tensorflow as tf\n",
    "import warnings\n",
    "warnings.filterwarnings(\"ignore\")"
   ]
  },
  {
   "cell_type": "code",
   "execution_count": 13,
   "metadata": {},
   "outputs": [],
   "source": [
    "def readAppr(path):\n",
    "    f = gzip.open(path, 'rt')\n",
    "    for l in f:\n",
    "        u,i,ts = l.strip().split(' ')\n",
    "        yield u,i,ts\n",
    "\n",
    "def readOwners(path):\n",
    "    f = gzip.open(path, 'rt')\n",
    "    for l in f:\n",
    "        u,i = l.strip().split(' ')\n",
    "        yield u,i\n"
   ]
  },
  {
   "cell_type": "code",
   "execution_count": 14,
   "metadata": {},
   "outputs": [],
   "source": [
    "interactions = []\n",
    "for l in readAppr(\"Behance_appreciate_1M.gz\"):\n",
    "    interactions.append(l)\n",
    "\n",
    "creations = []\n",
    "for l in readOwners(\"Behance_Item_to_Owners.gz\"):\n",
    "    creations.append(l)"
   ]
  },
  {
   "cell_type": "markdown",
   "metadata": {},
   "source": [
    "## Exploratory Data Analysis"
   ]
  },
  {
   "cell_type": "code",
   "execution_count": 17,
   "metadata": {},
   "outputs": [
    {
     "data": {
      "text/plain": [
       "1000000"
      ]
     },
     "execution_count": 17,
     "metadata": {},
     "output_type": "execute_result"
    }
   ],
   "source": [
    "#size of dataset\n",
    "len(creations)\n",
    "len(interactions)"
   ]
  },
  {
   "cell_type": "code",
   "execution_count": 22,
   "metadata": {},
   "outputs": [],
   "source": [
    "imgsperUser = defaultdict(list)\n",
    "userperImgs  = defaultdict(list)\n",
    "createdperUser = defaultdict(list)\n",
    "usersperCreation = defaultdict(list)\n",
    "for u,i,_ in interactions:\n",
    "    imgsperUser[u].append(i)\n",
    "    userperImgs[i].append(u)\n",
    "\n",
    "for u,c in creations:\n",
    "    createdperUser[u].append(c)\n",
    "    usersperCreation[c].append(u)\n"
   ]
  },
  {
   "cell_type": "code",
   "execution_count": 23,
   "metadata": {},
   "outputs": [
    {
     "data": {
      "text/plain": [
       "(63497, 178788, 178788, 51487)"
      ]
     },
     "execution_count": 23,
     "metadata": {},
     "output_type": "execute_result"
    }
   ],
   "source": [
    "x = len(imgsperUser) #no of users\n",
    "y = len(userperImgs) #no of images\n",
    "z = len(createdperUser) #no. of creators\n",
    "r = len(usersperCreation) # no of creations\n",
    "x,y,z,r"
   ]
  },
  {
   "cell_type": "code",
   "execution_count": 24,
   "metadata": {},
   "outputs": [],
   "source": [
    "images_with_gt_1 = [c for c,u in usersperCreation.items() if len(u)>1 ]"
   ]
  },
  {
   "cell_type": "code",
   "execution_count": 31,
   "metadata": {},
   "outputs": [
    {
     "data": {
      "text/plain": [
       "0.6051042010604618"
      ]
     },
     "execution_count": 31,
     "metadata": {},
     "output_type": "execute_result"
    }
   ],
   "source": [
    "len(images_with_gt_1)/r"
   ]
  },
  {
   "cell_type": "code",
   "execution_count": 38,
   "metadata": {},
   "outputs": [
    {
     "name": "stdout",
     "output_type": "stream",
     "text": [
      "1169556\n"
     ]
    },
    {
     "data": {
      "text/plain": [
       "['00045353', '00208333', '00211406', '00387493']"
      ]
     },
     "execution_count": 38,
     "metadata": {},
     "output_type": "execute_result"
    }
   ],
   "source": [
    "print(images_with_gt_1[122])\n",
    "usersperCreation[images_with_gt_1[122]]"
   ]
  },
  {
   "cell_type": "code",
   "execution_count": 37,
   "metadata": {},
   "outputs": [
    {
     "data": {
      "text/plain": [
       "['1169556']"
      ]
     },
     "execution_count": 37,
     "metadata": {},
     "output_type": "execute_result"
    }
   ],
   "source": [
    "createdperUser['00045353']"
   ]
  },
  {
   "cell_type": "code",
   "execution_count": 39,
   "metadata": {},
   "outputs": [
    {
     "name": "stdout",
     "output_type": "stream",
     "text": [
      "1000000\n"
     ]
    }
   ],
   "source": [
    "imgCountAll = defaultdict(int)\n",
    "totalliked = 0\n",
    "\n",
    "for user,img,_ in interactions:\n",
    "    imgCountAll[img] += 1\n",
    "    totalliked+= 1\n",
    "\n",
    "mostPopular = [(imgCountAll[x], x) for x in imgCountAll]\n",
    "mostPopular.sort()\n",
    "mostPopular.reverse()\n",
    "print(totalliked)\n"
   ]
  },
  {
   "cell_type": "code",
   "execution_count": 42,
   "metadata": {},
   "outputs": [],
   "source": [
    "return2 = set()\n",
    "count = 0\n",
    "threshold = 0.75\n",
    "for imgCount, img in mostPopular:\n",
    "    count += imgCount\n",
    "    return2.add(img)\n",
    "    if count > totalliked*threshold:\n",
    "        break"
   ]
  },
  {
   "cell_type": "code",
   "execution_count": 43,
   "metadata": {},
   "outputs": [],
   "source": [
    "def Jaccard(s1, s2):\n",
    "  if not isinstance(s1,set):\n",
    "    s1 = set(s1)\n",
    "  if not isinstance(s2,set):\n",
    "    s2 = set(s2)\n",
    "  numer = len(s1.intersection(s2))\n",
    "  denom = len(s1.union(s2))\n",
    "  if denom == 0:\n",
    "      return 0\n",
    "  return numer / denom\n",
    "\n",
    "def predictRead(user, img):\n",
    "  Jsimilarities = []\n",
    "  for d in imgsperUser[user]:\n",
    "    #d is img user has liked in training\n",
    "    if d == img: continue\n",
    "    Jsimilarities.append(Jaccard(userperImgs[img],userperImgs[d]))\n",
    "  mx = 0\n",
    "  if Jsimilarities:\n",
    "      mx = max(Jsimilarities)\n",
    "  elif len(Jsimilarities) == 0:\n",
    "    mx = 0\n",
    "  if img in return2:\n",
    "      return 1 + mx\n",
    "  return mx"
   ]
  },
  {
   "cell_type": "code",
   "execution_count": 54,
   "metadata": {},
   "outputs": [
    {
     "data": {
      "text/plain": [
       "10000"
      ]
     },
     "execution_count": 54,
     "metadata": {},
     "output_type": "execute_result"
    }
   ],
   "source": [
    "likedValid = interactions[990000:]\n",
    "likedValid = [i + (1,) for i in likedValid]\n",
    "\n",
    "\n",
    "imgsperUserVal = defaultdict(list)\n",
    "for u,img,_,_ in likedValid:\n",
    "    imgsperUserVal[u].append(img)\n",
    "\n",
    "len(likedValid)"
   ]
  },
  {
   "cell_type": "code",
   "execution_count": 55,
   "metadata": {},
   "outputs": [
    {
     "data": {
      "text/plain": [
       "20000"
      ]
     },
     "execution_count": 55,
     "metadata": {},
     "output_type": "execute_result"
    }
   ],
   "source": [
    "all_books = set(userperImgs.keys())\n",
    "val_pairs = set()\n",
    "for user in imgsperUserVal.keys():\n",
    "  no_books_read = len(imgsperUserVal[user])\n",
    "  books_not_read = list(all_books.difference(set(imgsperUser[user])))\n",
    "  for _ in range(no_books_read):\n",
    "    book = random.choice(books_not_read)\n",
    "    if (user,book, 'NA', 0) not in val_pairs:\n",
    "      book = book\n",
    "    else:\n",
    "      while (user,book, 'NA', 0) in val_pairs:\n",
    "        book = random.choice(books_not_read)\n",
    "    val_pairs.add((user,book,'NA',0))\n",
    "    likedValid.append((user,book,'NA',0)) \n",
    "\n",
    "len(likedValid)"
   ]
  },
  {
   "cell_type": "code",
   "execution_count": 56,
   "metadata": {},
   "outputs": [
    {
     "data": {
      "text/plain": [
       "0.3131"
      ]
     },
     "execution_count": 56,
     "metadata": {},
     "output_type": "execute_result"
    }
   ],
   "source": [
    "preds = [predictRead(u,b) for u,b,_,_ in likedValid]\n",
    "correct = sum([likedValid[i][3]  == preds[i] for i in range(len(likedValid))])\n",
    "y = [x for _,_,_,x in likedValid]\n",
    "acc4 = correct/len(preds)\n",
    "acc4 "
   ]
  },
  {
   "cell_type": "code",
   "execution_count": null,
   "metadata": {},
   "outputs": [],
   "source": []
  }
 ],
 "metadata": {
  "kernelspec": {
   "display_name": "Python 3.8.8 ('base')",
   "language": "python",
   "name": "python3"
  },
  "language_info": {
   "codemirror_mode": {
    "name": "ipython",
    "version": 3
   },
   "file_extension": ".py",
   "mimetype": "text/x-python",
   "name": "python",
   "nbconvert_exporter": "python",
   "pygments_lexer": "ipython3",
   "version": "3.8.8"
  },
  "orig_nbformat": 4,
  "vscode": {
   "interpreter": {
    "hash": "b9b97644c8ae1a16cf1dd9c5681dbbcd445c01cd0b31e49e4ce22d5a8dc8aae8"
   }
  }
 },
 "nbformat": 4,
 "nbformat_minor": 2
}
