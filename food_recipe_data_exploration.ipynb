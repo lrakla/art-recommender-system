{
 "cells": [
  {
   "cell_type": "code",
   "execution_count": 3,
   "metadata": {},
   "outputs": [],
   "source": [
    "import gzip\n",
    "import pandas as pd\n",
    "from collections import defaultdict\n",
    "import math\n",
    "import scipy.optimize\n",
    "from sklearn import svm\n",
    "import numpy as np\n",
    "import string\n",
    "import random\n",
    "import string\n",
    "from sklearn import linear_model\n",
    "import matplotlib.pyplot as plt\n",
    "import warnings\n",
    "from collections import OrderedDict\n",
    "warnings.filterwarnings(\"ignore\")\n",
    "\n",
    "from pathlib import Path"
   ]
  },
  {
   "cell_type": "markdown",
   "metadata": {},
   "source": [
    "## Exploratory Data Analysis"
   ]
  },
  {
   "cell_type": "code",
   "execution_count": 5,
   "metadata": {},
   "outputs": [],
   "source": [
    "#data = pd.read_csv(\"interactions_train.csv\")\n",
    "data_raw_interactions = pd.read_csv(\"RAW_interactions.csv\")\n",
    "#data_raw_interactions = data_raw_interactions.sample(50000)"
   ]
  },
  {
   "cell_type": "code",
   "execution_count": null,
   "metadata": {},
   "outputs": [],
   "source": [
    "#size of dataset\n",
    "data_raw_interactions.shape"
   ]
  },
  {
   "cell_type": "code",
   "execution_count": null,
   "metadata": {},
   "outputs": [],
   "source": [
    "data_raw_interactions.iloc[0,:]"
   ]
  },
  {
   "cell_type": "code",
   "execution_count": null,
   "metadata": {},
   "outputs": [],
   "source": [
    "recipeperUser = defaultdict(list)\n",
    "userperRecipe  = defaultdict(list)\n",
    "ratingsperUser = defaultdict(list)\n",
    "ratingsperDate = defaultdict(list)\n",
    "ratingsperRecipe = defaultdict(list)\n",
    "occurenceperRating = defaultdict(list)\n",
    "all_recipes = set()\n",
    "all_users = set()\n",
    "for index, row in data_raw_interactions.iterrows():\n",
    "    u,i,r =  row['user_id'], row['recipe_id'],row['rating']\n",
    "    recipeperUser[u].append(i)\n",
    "    userperRecipe[i].append(u)\n",
    "    ratingsperRecipe[i].append(r)\n",
    "    ratingsperUser[u].append((i,r))\n",
    "    all_recipes.add(row['recipe_id'])\n",
    "    all_users.add(row['user_id'])\n",
    "    ratingsperDate[row['date']].append(r)\n",
    "    if r in occurenceperRating.keys():\n",
    "        occurenceperRating[r] +=1\n",
    "    else:\n",
    "        occurenceperRating[r] = 0"
   ]
  },
  {
   "cell_type": "code",
   "execution_count": null,
   "metadata": {},
   "outputs": [],
   "source": [
    "x = len(recipeperUser) #no of users\n",
    "y = len(userperRecipe) #no of recipes\n",
    "z = len(ratingsperDate) # number of dates\n",
    "x,y,z"
   ]
  },
  {
   "cell_type": "code",
   "execution_count": null,
   "metadata": {},
   "outputs": [],
   "source": [
    "#print(max(ratingsperDate, key = ratingsperDate.get))"
   ]
  },
  {
   "cell_type": "code",
   "execution_count": null,
   "metadata": {},
   "outputs": [],
   "source": [
    "number_of_ratingsperDate = defaultdict(list)\n",
    "\n",
    "for x in ratingsperDate.keys():\n",
    "    number_of_ratingsperDate[x] = len(ratingsperDate[x])"
   ]
  },
  {
   "cell_type": "code",
   "execution_count": null,
   "metadata": {},
   "outputs": [],
   "source": [
    "date_with_max_number_of_ratings = max(number_of_ratingsperDate, key = number_of_ratingsperDate.get)\n",
    "date_with_min_number_of_ratings = min(number_of_ratingsperDate, key = number_of_ratingsperDate.get)"
   ]
  },
  {
   "cell_type": "code",
   "execution_count": null,
   "metadata": {},
   "outputs": [],
   "source": [
    "print('Date with max # of ratings',date_with_max_number_of_ratings, number_of_ratingsperDate[date_with_max_number_of_ratings])\n",
    "print('Date with min # of ratings',date_with_min_number_of_ratings, number_of_ratingsperDate[date_with_min_number_of_ratings])"
   ]
  },
  {
   "cell_type": "code",
   "execution_count": null,
   "metadata": {
    "scrolled": true
   },
   "outputs": [],
   "source": [
    "dates = list(ratingsperDate.keys())\n",
    "\n",
    "values = list(ratingsperDate.values())\n",
    " \n",
    "#################################################\n",
    "print(min(number_of_ratingsperDate.keys()))\n",
    "print(max(number_of_ratingsperDate.keys()))\n",
    "print(\"\")\n",
    "\n",
    "binned_of_ratingsperDate = defaultdict(list)\n",
    "for x in number_of_ratingsperDate.keys():\n",
    "    year = x.split(\"-\", 1)[0]\n",
    "    year = int(year) - 2000\n",
    "    if year in binned_of_ratingsperDate.keys(): \n",
    "        binned_of_ratingsperDate[year] += number_of_ratingsperDate[x]\n",
    "    else:\n",
    "        binned_of_ratingsperDate[year] = 0\n",
    "    \n",
    "\n",
    "for x in binned_of_ratingsperDate.keys():\n",
    "    print(x, binned_of_ratingsperDate[x])\n",
    "binned_of_ratingsperDate = OrderedDict(sorted(binned_of_ratingsperDate.items()))\n",
    "################################################\n",
    "values_length = [binned_of_ratingsperDate[x] for x in binned_of_ratingsperDate.keys()]\n",
    "plot_x_axis = [str(x) for x in binned_of_ratingsperDate.keys()]\n",
    "print (plot_x_axis)\n",
    "plt.bar(plot_x_axis, values_length)\n",
    "plt.xlabel(\"Year in 2000s\")\n",
    "plt.ylabel(\"Number of Ratings\")\n",
    "\n",
    "plt.show()"
   ]
  },
  {
   "cell_type": "code",
   "execution_count": null,
   "metadata": {},
   "outputs": [],
   "source": [
    "binned_of_ratingsperDate_per_rating = defaultdict(list)\n",
    "\n",
    "for x in ratingsperDate.keys():\n",
    "    one = ratingsperDate[x].count(1)\n",
    "    two = ratingsperDate[x].count(2)\n",
    "    three = ratingsperDate[x].count(3)\n",
    "    four = ratingsperDate[x].count(4)\n",
    "    five = ratingsperDate[x].count(5)\n",
    "    zero = ratingsperDate[x].count(0)\n",
    "    year = x.split(\"-\", 1)[0]\n",
    "    year = int(year) - 2000\n",
    "    if year in binned_of_ratingsperDate_per_rating.keys():\n",
    "            binned_of_ratingsperDate_per_rating[year][0]+=zero\n",
    "            binned_of_ratingsperDate_per_rating[year][1]+=one\n",
    "            binned_of_ratingsperDate_per_rating[year][2]+=two\n",
    "            binned_of_ratingsperDate_per_rating[year][3]+=three\n",
    "            binned_of_ratingsperDate_per_rating[year][4]+=four\n",
    "            binned_of_ratingsperDate_per_rating[year][5]+=five\n",
    "            #print(binned_of_ratingsperDate_per_rating[year][0])\n",
    "    else:\n",
    "        binned_of_ratingsperDate_per_rating[year] = [0,0,0,0,0,0]\n",
    "        \n",
    "        \n",
    "binned_of_ratingsperDate_per_rating = OrderedDict(sorted(binned_of_ratingsperDate_per_rating.items()))\n",
    "#################################################################\n",
    "\n",
    "zeros = [binned_of_ratingsperDate_per_rating[x][0] for x in binned_of_ratingsperDate_per_rating.keys()]\n",
    "ones = [binned_of_ratingsperDate_per_rating[x][1] for x in binned_of_ratingsperDate_per_rating.keys()]\n",
    "twos = [binned_of_ratingsperDate_per_rating[x][2] for x in binned_of_ratingsperDate_per_rating.keys()]\n",
    "threes = [binned_of_ratingsperDate_per_rating[x][3] for x in binned_of_ratingsperDate_per_rating.keys()]\n",
    "fours = [binned_of_ratingsperDate_per_rating[x][4] for x in binned_of_ratingsperDate_per_rating.keys()]\n",
    "fives = [binned_of_ratingsperDate_per_rating[x][5] for x in binned_of_ratingsperDate_per_rating.keys()]\n",
    "plot_x_axis = [str(x) for x in binned_of_ratingsperDate.keys()]\n",
    "print (plot_x_axis)\n",
    "fig0 = plt.figure()\n",
    "ax0 = fig0.add_axes([0,0,1,1])\n",
    "ax0.bar(plot_x_axis, zeros, color = 'b', width = 0.5, label='zeros')\n",
    "plt.xlabel(\"Year in 2000s\")\n",
    "plt.ylabel(\"Number of 0 Ratings\")\n",
    "\n",
    "plt.show()\n"
   ]
  },
  {
   "cell_type": "code",
   "execution_count": null,
   "metadata": {},
   "outputs": [],
   "source": [
    "fig1 = plt.figure()\n",
    "ax1 = fig1.add_axes([0,0,1,1])\n",
    "ax1.bar([str(int(yr)) for yr in plot_x_axis], ones, color = 'g', width = 0.5, label='ones')\n",
    "plt.xlabel(\"Year in 2000s\")\n",
    "plt.ylabel(\"Number of 1 Ratings\")\n",
    "plt.show()"
   ]
  },
  {
   "cell_type": "code",
   "execution_count": null,
   "metadata": {},
   "outputs": [],
   "source": [
    "fig2 = plt.figure()\n",
    "ax2 = fig2.add_axes([0,0,1,1])\n",
    "ax2.bar([str(int(yr)) for yr in plot_x_axis], twos, color = 'y', width = 0.5, label='twos')\n",
    "plt.xlabel(\"Year in 2000s\")\n",
    "plt.ylabel(\"Number of 2 Ratings\")\n",
    "plt.show()"
   ]
  },
  {
   "cell_type": "code",
   "execution_count": null,
   "metadata": {},
   "outputs": [],
   "source": [
    "fig3 = plt.figure()\n",
    "ax3 = fig3.add_axes([0,0,1,1])\n",
    "ax3.bar([str(int(yr)) for yr in plot_x_axis], threes, color = 'r', width = 0.5, label='threes')\n",
    "plt.xlabel(\"Year in 2000s\")\n",
    "plt.ylabel(\"Number of 3 Ratings\")\n",
    "plt.show()"
   ]
  },
  {
   "cell_type": "code",
   "execution_count": null,
   "metadata": {
    "scrolled": true
   },
   "outputs": [],
   "source": [
    "fig4 = plt.figure()\n",
    "ax4 = fig4.add_axes([0,0,1,1])\n",
    "ax4.bar([str(int(yr)) for yr in plot_x_axis], fours, color = 'orange', width = 0.5, label='fours')\n",
    "plt.xlabel(\"Year in 2000s\")\n",
    "plt.ylabel(\"Number of 4 Ratings\")\n",
    "plt.show()"
   ]
  },
  {
   "cell_type": "code",
   "execution_count": null,
   "metadata": {},
   "outputs": [],
   "source": [
    "fig5 = plt.figure()\n",
    "ax5 = fig5.add_axes([0,0,1,1])\n",
    "ax5.bar([str(int(yr)) for yr in plot_x_axis], fives, color = 'maroon', width = 0.5, label='fives')\n",
    "plt.xlabel(\"Year in 2000s\")\n",
    "plt.ylabel(\"Number of 5 Ratings\")\n",
    "plt.show()"
   ]
  },
  {
   "cell_type": "code",
   "execution_count": null,
   "metadata": {},
   "outputs": [],
   "source": [
    "rating_keys = list(occurenceperRating.keys())\n",
    "\n",
    "rating_occurences = list(occurenceperRating.values())\n",
    "plt.bar(range(len(occurenceperRating)), rating_occurences)\n",
    "plt.show()"
   ]
  },
  {
   "cell_type": "code",
   "execution_count": null,
   "metadata": {},
   "outputs": [],
   "source": []
  },
  {
   "cell_type": "code",
   "execution_count": null,
   "metadata": {},
   "outputs": [],
   "source": []
  },
  {
   "cell_type": "code",
   "execution_count": null,
   "metadata": {},
   "outputs": [],
   "source": []
  },
  {
   "cell_type": "code",
   "execution_count": null,
   "metadata": {},
   "outputs": [],
   "source": [
    "## RAW_recipes parsing"
   ]
  },
  {
   "cell_type": "code",
   "execution_count": null,
   "metadata": {},
   "outputs": [],
   "source": [
    "data_raw_recipes = pd.read_csv(\"RAW_recipes.csv\")"
   ]
  },
  {
   "cell_type": "code",
   "execution_count": null,
   "metadata": {},
   "outputs": [],
   "source": [
    "data_raw_recipes.shape"
   ]
  },
  {
   "cell_type": "code",
   "execution_count": null,
   "metadata": {},
   "outputs": [],
   "source": [
    "#data_raw_recipes.head"
   ]
  },
  {
   "cell_type": "code",
   "execution_count": null,
   "metadata": {},
   "outputs": [],
   "source": [
    "data_raw_recipes.columns"
   ]
  },
  {
   "cell_type": "code",
   "execution_count": null,
   "metadata": {},
   "outputs": [],
   "source": [
    "data_raw_recipes.iloc[0,:]"
   ]
  },
  {
   "cell_type": "code",
   "execution_count": null,
   "metadata": {},
   "outputs": [],
   "source": [
    "features_per_recipe = defaultdict(list)\n",
    "\n",
    "\n",
    "#all_users = set()\n",
    "for index, row in data_raw_recipes.iterrows():\n",
    "    name,recipe_id,mins,cont_id,sub,tag,nutri,n_steps,steps,descrip,ingred,n_ingred =  row['name'], row['id'],row['minutes'],row['contributor_id'], row['submitted'], row['tags'], row['nutrition'],row['n_steps'],row['steps'], row['description'],row['ingredients'], row['n_ingredients']\n",
    "    features_per_recipe[recipe_id] = [name,mins,cont_id,sub,tag,nutri,n_steps,steps,descrip,ingred,n_ingred]\n",
    "    "
   ]
  },
  {
   "cell_type": "code",
   "execution_count": null,
   "metadata": {},
   "outputs": [],
   "source": [
    "print(features_per_recipe[137739])"
   ]
  },
  {
   "cell_type": "code",
   "execution_count": null,
   "metadata": {},
   "outputs": [],
   "source": [
    "all_tags = set()\n",
    "for x in features_per_recipe.keys():\n",
    "    tag = features_per_recipe[x][4]\n",
    "    tag = tag.replace('[', '')\n",
    "    tag = tag.replace(']', '')\n",
    "    tag = tag.replace('\\'', '')\n",
    "    tag = tag.split(\",\")\n",
    "    for y in tag:\n",
    "        all_tags.add(y)\n",
    "    #print(tag)"
   ]
  },
  {
   "cell_type": "code",
   "execution_count": null,
   "metadata": {},
   "outputs": [],
   "source": [
    "len(all_tags)"
   ]
  },
  {
   "cell_type": "code",
   "execution_count": null,
   "metadata": {},
   "outputs": [],
   "source": [
    "ratingsperNSteps = defaultdict(list)\n",
    "for x in ratingsperRecipe:\n",
    "    for y in ratingsperRecipe[x]:\n",
    "        ratingsperNSteps[features_per_recipe[x][6]].append(y)\n"
   ]
  },
  {
   "cell_type": "code",
   "execution_count": null,
   "metadata": {},
   "outputs": [],
   "source": [
    "avg_ratingsperNSteps = defaultdict(list)\n",
    "ratingsperNSteps = OrderedDict(sorted(ratingsperNSteps.items()))\n",
    "for x in ratingsperNSteps:\n",
    "    avg_ratingsperNSteps[x] = [sum(ratingsperNSteps[x])/len(ratingsperNSteps[x]),len(ratingsperNSteps[x])]\n",
    "    print(x,avg_ratingsperNSteps[x][0],avg_ratingsperNSteps[x][1])\n"
   ]
  },
  {
   "cell_type": "code",
   "execution_count": null,
   "metadata": {},
   "outputs": [],
   "source": [
    "len(avg_ratingsperNSteps)"
   ]
  },
  {
   "cell_type": "code",
   "execution_count": null,
   "metadata": {},
   "outputs": [],
   "source": []
  },
  {
   "cell_type": "code",
   "execution_count": null,
   "metadata": {},
   "outputs": [],
   "source": []
  },
  {
   "cell_type": "code",
   "execution_count": null,
   "metadata": {},
   "outputs": [],
   "source": []
  },
  {
   "cell_type": "code",
   "execution_count": null,
   "metadata": {},
   "outputs": [],
   "source": []
  },
  {
   "cell_type": "code",
   "execution_count": null,
   "metadata": {},
   "outputs": [],
   "source": []
  },
  {
   "cell_type": "code",
   "execution_count": null,
   "metadata": {},
   "outputs": [],
   "source": [
    "data_pp_recipes = pd.read_csv(\"PP_recipes.csv\")"
   ]
  },
  {
   "cell_type": "code",
   "execution_count": null,
   "metadata": {},
   "outputs": [],
   "source": [
    "data_pp_recipes.shape"
   ]
  },
  {
   "cell_type": "code",
   "execution_count": null,
   "metadata": {},
   "outputs": [],
   "source": []
  },
  {
   "cell_type": "code",
   "execution_count": null,
   "metadata": {},
   "outputs": [],
   "source": []
  },
  {
   "cell_type": "markdown",
   "metadata": {},
   "source": [
    "### End of code "
   ]
  },
  {
   "cell_type": "code",
   "execution_count": null,
   "metadata": {},
   "outputs": [],
   "source": [
    "imgCountAll = defaultdict(int)\n",
    "totalliked = 0\n",
    "\n",
    "for user,img,_ in interactions:\n",
    "    imgCountAll[img] += 1\n",
    "    totalliked+= 1\n",
    "\n",
    "mostPopular = [(imgCountAll[x], x) for x in imgCountAll]\n",
    "mostPopular.sort()\n",
    "mostPopular.reverse()\n",
    "print(totalliked)\n"
   ]
  },
  {
   "cell_type": "code",
   "execution_count": null,
   "metadata": {},
   "outputs": [],
   "source": [
    "return2 = set()\n",
    "count = 0\n",
    "threshold = 0.75\n",
    "for imgCount, img in mostPopular:\n",
    "    count += imgCount\n",
    "    return2.add(img)\n",
    "    if count > totalliked*threshold:\n",
    "        break"
   ]
  },
  {
   "cell_type": "code",
   "execution_count": null,
   "metadata": {},
   "outputs": [],
   "source": [
    "def Jaccard(s1, s2):\n",
    "  if not isinstance(s1,set):\n",
    "    s1 = set(s1)\n",
    "  if not isinstance(s2,set):\n",
    "    s2 = set(s2)\n",
    "  numer = len(s1.intersection(s2))\n",
    "  denom = len(s1.union(s2))\n",
    "  if denom == 0:\n",
    "      return 0\n",
    "  return numer / denom\n",
    "\n",
    "def predictRead(user, img):\n",
    "  Jsimilarities = []\n",
    "  for d in imgsperUser[user]:\n",
    "    #d is img user has liked in training\n",
    "    if d == img: continue\n",
    "    Jsimilarities.append(Jaccard(userperImgs[img],userperImgs[d]))\n",
    "  if Jsimilarities and max(Jsimilarities)> 0.003 or img in return2:\n",
    "    return 1\n",
    "  return 0\n",
    "  # mx = 0\n",
    "  # if Jsimilarities:\n",
    "  #     mx = max(Jsimilarities)\n",
    "  # elif len(Jsimilarities) == 0:\n",
    "  #   mx = 0\n",
    "  # if img in return2:\n",
    "  #     return 1 + mx\n",
    "  # return mx"
   ]
  },
  {
   "cell_type": "code",
   "execution_count": null,
   "metadata": {},
   "outputs": [],
   "source": [
    "likedValid = interactions[990000:]\n",
    "likedValid = [i + (1,) for i in likedValid]\n",
    "\n",
    "\n",
    "imgsperUserVal = defaultdict(list)\n",
    "for u,img,_,_ in likedValid:\n",
    "    imgsperUserVal[u].append(img)\n",
    "\n",
    "len(likedValid)"
   ]
  },
  {
   "cell_type": "code",
   "execution_count": null,
   "metadata": {},
   "outputs": [],
   "source": [
    "all_books = set(userperImgs.keys())\n",
    "val_pairs = set()\n",
    "for user in imgsperUserVal.keys():\n",
    "  no_books_read = len(imgsperUserVal[user])\n",
    "  books_not_read = list(all_books.difference(set(imgsperUser[user])))\n",
    "  for _ in range(no_books_read):\n",
    "    book = random.choice(books_not_read)\n",
    "    if (user,book, 'NA', 0) not in val_pairs:\n",
    "      book = book\n",
    "    else:\n",
    "      while (user,book, 'NA', 0) in val_pairs:\n",
    "        book = random.choice(books_not_read)\n",
    "    val_pairs.add((user,book,'NA',0))\n",
    "    likedValid.append((user,book,'NA',0)) \n",
    "\n",
    "len(likedValid)"
   ]
  },
  {
   "cell_type": "code",
   "execution_count": null,
   "metadata": {},
   "outputs": [],
   "source": [
    "preds = [predictRead(u,b) for u,b,_,_ in likedValid]\n",
    "correct = sum([likedValid[i][3]  == preds[i] for i in range(len(likedValid))])\n",
    "y = [x for _,_,_,x in likedValid]\n",
    "acc4 = correct/len(preds)\n",
    "acc4 "
   ]
  },
  {
   "cell_type": "code",
   "execution_count": null,
   "metadata": {},
   "outputs": [],
   "source": []
  }
 ],
 "metadata": {
  "kernelspec": {
   "display_name": "Python 3 (ipykernel)",
   "language": "python",
   "name": "python3"
  },
  "language_info": {
   "codemirror_mode": {
    "name": "ipython",
    "version": 3
   },
   "file_extension": ".py",
   "mimetype": "text/x-python",
   "name": "python",
   "nbconvert_exporter": "python",
   "pygments_lexer": "ipython3",
   "version": "3.9.7"
  },
  "vscode": {
   "interpreter": {
    "hash": "b9b97644c8ae1a16cf1dd9c5681dbbcd445c01cd0b31e49e4ce22d5a8dc8aae8"
   }
  }
 },
 "nbformat": 4,
 "nbformat_minor": 2
}
