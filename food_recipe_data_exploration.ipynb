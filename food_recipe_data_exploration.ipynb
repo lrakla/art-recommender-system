{
 "cells": [
  {
   "cell_type": "code",
   "execution_count": 1,
   "metadata": {},
   "outputs": [],
   "source": [
    "import gzip\n",
    "import pandas as pd\n",
    "from collections import defaultdict\n",
    "import math\n",
    "import scipy.optimize\n",
    "from sklearn import svm\n",
    "import numpy as np\n",
    "import string\n",
    "import random\n",
    "import string\n",
    "from sklearn import linear_model\n",
    "import matplotlib.pyplot as plt\n",
    "import warnings\n",
    "from collections import OrderedDict\n",
    "warnings.filterwarnings(\"ignore\")"
   ]
  },
  {
   "cell_type": "code",
   "execution_count": 2,
   "metadata": {},
   "outputs": [],
   "source": [
    "def readAppr(path):\n",
    "    f = gzip.open(path, 'rt')\n",
    "    for l in f:\n",
    "        u,i,ts = l.strip().split(' ')\n",
    "        yield u,i,ts\n",
    "\n",
    "def readOwners(path):\n",
    "    f = gzip.open(path, 'rt')\n",
    "    for l in f:\n",
    "        u,i = l.strip().split(' ')\n",
    "        yield u,i\n"
   ]
  },
  {
   "cell_type": "code",
   "execution_count": null,
   "metadata": {},
   "outputs": [],
   "source": []
  },
  {
   "cell_type": "markdown",
   "metadata": {},
   "source": [
    "## Exploratory Data Analysis"
   ]
  },
  {
   "cell_type": "code",
   "execution_count": 25,
   "metadata": {},
   "outputs": [],
   "source": [
    "## RAW_interactions parsing"
   ]
  },
  {
   "cell_type": "code",
   "execution_count": 28,
   "metadata": {},
   "outputs": [],
   "source": [
    "interactions = []\n",
    "#data = pd.read_csv(\"interactions_train.csv\")\n",
    "data_raw_interactions = pd.read_csv(\"RAW_interactions.csv\")\n",
    "#data_raw_interactions = data_raw_interactions.sample(50000)"
   ]
  },
  {
   "cell_type": "code",
   "execution_count": 29,
   "metadata": {},
   "outputs": [
    {
     "data": {
      "text/plain": [
       "(1132367, 5)"
      ]
     },
     "execution_count": 29,
     "metadata": {},
     "output_type": "execute_result"
    }
   ],
   "source": [
    "#size of dataset\n",
    "data_raw_interactions.shape"
   ]
  },
  {
   "cell_type": "code",
   "execution_count": 30,
   "metadata": {},
   "outputs": [
    {
     "data": {
      "text/plain": [
       "user_id                                                  38094\n",
       "recipe_id                                                40893\n",
       "date                                                2003-02-17\n",
       "rating                                                       4\n",
       "review       Great with a salad. Cooked on top of stove for...\n",
       "Name: 0, dtype: object"
      ]
     },
     "execution_count": 30,
     "metadata": {},
     "output_type": "execute_result"
    }
   ],
   "source": [
    "data_raw_interactions.iloc[0,:]"
   ]
  },
  {
   "cell_type": "code",
   "execution_count": 31,
   "metadata": {},
   "outputs": [],
   "source": [
    "recipeperUser = defaultdict(list)\n",
    "userperRecipe  = defaultdict(list)\n",
    "ratingsperUser = defaultdict(list)\n",
    "ratingsperDate = defaultdict(list)\n",
    "ratingsperRecipe = defaultdict(list)\n",
    "occurenceperRating = defaultdict(list)\n",
    "all_recipes = set()\n",
    "all_users = set()\n",
    "for index, row in data_raw_interactions.iterrows():\n",
    "    u,i,r =  row['user_id'], row['recipe_id'],row['rating']\n",
    "    recipeperUser[u].append(i)\n",
    "    userperRecipe[i].append(u)\n",
    "    ratingsperRecipe[i].append(r)\n",
    "    ratingsperUser[u].append((i,r))\n",
    "    all_recipes.add(row['recipe_id'])\n",
    "    all_users.add(row['user_id'])\n",
    "    ratingsperDate[row['date']].append(r)\n",
    "    if r in occurenceperRating.keys():\n",
    "        occurenceperRating[r] +=1\n",
    "    else:\n",
    "        occurenceperRating[r] = 0"
   ]
  },
  {
   "cell_type": "code",
   "execution_count": 7,
   "metadata": {},
   "outputs": [
    {
     "data": {
      "text/plain": [
       "(226570, 231637, 6396)"
      ]
     },
     "execution_count": 7,
     "metadata": {},
     "output_type": "execute_result"
    }
   ],
   "source": [
    "x = len(recipeperUser) #no of users\n",
    "y = len(userperRecipe) #no of recipes\n",
    "z = len(ratingsperDate) # number of dates\n",
    "x,y,z"
   ]
  },
  {
   "cell_type": "code",
   "execution_count": 15,
   "metadata": {},
   "outputs": [],
   "source": [
    "#print(max(ratingsperDate, key = ratingsperDate.get))"
   ]
  },
  {
   "cell_type": "code",
   "execution_count": 16,
   "metadata": {},
   "outputs": [],
   "source": [
    "number_of_ratingsperDate = defaultdict(list)\n",
    "\n",
    "for x in ratingsperDate.keys():\n",
    "    number_of_ratingsperDate[x] = len(ratingsperDate[x])"
   ]
  },
  {
   "cell_type": "code",
   "execution_count": 21,
   "metadata": {},
   "outputs": [],
   "source": [
    "date_with_max_number_of_ratings = max(number_of_ratingsperDate, key = number_of_ratingsperDate.get)\n",
    "date_with_min_number_of_ratings = min(number_of_ratingsperDate, key = number_of_ratingsperDate.get)"
   ]
  },
  {
   "cell_type": "code",
   "execution_count": 22,
   "metadata": {},
   "outputs": [
    {
     "name": "stdout",
     "output_type": "stream",
     "text": [
      "Date with max # of ratings 2008-01-27 723\n",
      "Date with min # of ratings 2000-12-19 1\n"
     ]
    }
   ],
   "source": [
    "print('Date with max # of ratings',date_with_max_number_of_ratings, number_of_ratingsperDate[date_with_max_number_of_ratings])\n",
    "print('Date with min # of ratings',date_with_min_number_of_ratings, number_of_ratingsperDate[date_with_min_number_of_ratings])"
   ]
  },
  {
   "cell_type": "code",
   "execution_count": 64,
   "metadata": {
    "scrolled": true
   },
   "outputs": [
    {
     "name": "stdout",
     "output_type": "stream",
     "text": [
      "2000-01-25\n",
      "2018-12-20\n",
      "\n",
      "3 32859\n",
      "11 71972\n",
      "2 20839\n",
      "10 107024\n",
      "5 66489\n",
      "15 23289\n",
      "6 89500\n",
      "7 140895\n",
      "8 166849\n",
      "9 158973\n",
      "18 20560\n",
      "4 45841\n",
      "12 56290\n",
      "14 30392\n",
      "13 49396\n",
      "16 18110\n",
      "17 26987\n",
      "1 2863\n",
      "0 104\n",
      "['0', '1', '2', '3', '4', '5', '6', '7', '8', '9', '10', '11', '12', '13', '14', '15', '16', '17', '18']\n"
     ]
    },
    {
     "data": {
      "image/png": "[encoded data removed]",
      "text/plain": [
       "<Figure size 432x288 with 1 Axes>"
      ]
     },
     "metadata": {
      "needs_background": "light"
     },
     "output_type": "display_data"
    }
   ],
   "source": [
    "dates = list(ratingsperDate.keys())\n",
    "\n",
    "values = list(ratingsperDate.values())\n",
    " \n",
    "#################################################\n",
    "print(min(number_of_ratingsperDate.keys()))\n",
    "print(max(number_of_ratingsperDate.keys()))\n",
    "print(\"\")\n",
    "\n",
    "binned_of_ratingsperDate = defaultdict(list)\n",
    "for x in number_of_ratingsperDate.keys():\n",
    "    year = x.split(\"-\", 1)[0]\n",
    "    year = int(year) - 2000\n",
    "    if year in binned_of_ratingsperDate.keys(): \n",
    "        binned_of_ratingsperDate[year] += number_of_ratingsperDate[x]\n",
    "    else:\n",
    "        binned_of_ratingsperDate[year] = 0\n",
    "    \n",
    "\n",
    "for x in binned_of_ratingsperDate.keys():\n",
    "    print(x, binned_of_ratingsperDate[x])\n",
    "binned_of_ratingsperDate = OrderedDict(sorted(binned_of_ratingsperDate.items()))\n",
    "################################################\n",
    "values_length = [binned_of_ratingsperDate[x] for x in binned_of_ratingsperDate.keys()]\n",
    "plot_x_axis = [str(x) for x in binned_of_ratingsperDate.keys()]\n",
    "print (plot_x_axis)\n",
    "plt.bar(plot_x_axis, values_length)\n",
    "plt.xlabel(\"Year in 2000s\")\n",
    "plt.ylabel(\"Number of Ratings\")\n",
    "\n",
    "plt.show()"
   ]
  },
  {
   "cell_type": "code",
   "execution_count": 133,
   "metadata": {},
   "outputs": [
    {
     "name": "stdout",
     "output_type": "stream",
     "text": [
      "['0', '1', '2', '3', '4', '5', '6', '7', '8', '9', '10', '11', '12', '13', '14', '15', '16', '17', '18']\n"
     ]
    },
    {
     "data": {
      "image/png": "[encoded data removed]",
      "text/plain": [
       "<Figure size 432x288 with 1 Axes>"
      ]
     },
     "metadata": {
      "needs_background": "light"
     },
     "output_type": "display_data"
    }
   ],
   "source": [
    "binned_of_ratingsperDate_per_rating = defaultdict(list)\n",
    "\n",
    "for x in ratingsperDate.keys():\n",
    "    one = ratingsperDate[x].count(1)\n",
    "    two = ratingsperDate[x].count(2)\n",
    "    three = ratingsperDate[x].count(3)\n",
    "    four = ratingsperDate[x].count(4)\n",
    "    five = ratingsperDate[x].count(5)\n",
    "    zero = ratingsperDate[x].count(0)\n",
    "    year = x.split(\"-\", 1)[0]\n",
    "    year = int(year) - 2000\n",
    "    if year in binned_of_ratingsperDate_per_rating.keys():\n",
    "            binned_of_ratingsperDate_per_rating[year][0]+=zero\n",
    "            binned_of_ratingsperDate_per_rating[year][1]+=one\n",
    "            binned_of_ratingsperDate_per_rating[year][2]+=two\n",
    "            binned_of_ratingsperDate_per_rating[year][3]+=three\n",
    "            binned_of_ratingsperDate_per_rating[year][4]+=four\n",
    "            binned_of_ratingsperDate_per_rating[year][5]+=five\n",
    "            #print(binned_of_ratingsperDate_per_rating[year][0])\n",
    "    else:\n",
    "        binned_of_ratingsperDate_per_rating[year] = [0,0,0,0,0,0]\n",
    "        \n",
    "        \n",
    "binned_of_ratingsperDate_per_rating = OrderedDict(sorted(binned_of_ratingsperDate_per_rating.items()))\n",
    "#################################################################\n",
    "\n",
    "zeros = [binned_of_ratingsperDate_per_rating[x][0] for x in binned_of_ratingsperDate_per_rating.keys()]\n",
    "ones = [binned_of_ratingsperDate_per_rating[x][1] for x in binned_of_ratingsperDate_per_rating.keys()]\n",
    "twos = [binned_of_ratingsperDate_per_rating[x][2] for x in binned_of_ratingsperDate_per_rating.keys()]\n",
    "threes = [binned_of_ratingsperDate_per_rating[x][3] for x in binned_of_ratingsperDate_per_rating.keys()]\n",
    "fours = [binned_of_ratingsperDate_per_rating[x][4] for x in binned_of_ratingsperDate_per_rating.keys()]\n",
    "fives = [binned_of_ratingsperDate_per_rating[x][5] for x in binned_of_ratingsperDate_per_rating.keys()]\n",
    "plot_x_axis = [str(x) for x in binned_of_ratingsperDate.keys()]\n",
    "print (plot_x_axis)\n",
    "fig0 = plt.figure()\n",
    "ax0 = fig0.add_axes([0,0,1,1])\n",
    "ax0.bar(plot_x_axis, zeros, color = 'b', width = 0.5, label='zeros')\n",
    "plt.xlabel(\"Year in 2000s\")\n",
    "plt.ylabel(\"Number of 0 Ratings\")\n",
    "\n",
    "plt.show()\n"
   ]
  },
  {
   "cell_type": "code",
   "execution_count": 134,
   "metadata": {},
   "outputs": [
    {
     "data": {
      "image/png": "[encoded data removed]",
      "text/plain": [
       "<Figure size 432x288 with 1 Axes>"
      ]
     },
     "metadata": {
      "needs_background": "light"
     },
     "output_type": "display_data"
    }
   ],
   "source": [
    "fig1 = plt.figure()\n",
    "ax1 = fig1.add_axes([0,0,1,1])\n",
    "ax1.bar([str(int(yr)) for yr in plot_x_axis], ones, color = 'g', width = 0.5, label='ones')\n",
    "plt.xlabel(\"Year in 2000s\")\n",
    "plt.ylabel(\"Number of 1 Ratings\")\n",
    "plt.show()"
   ]
  },
  {
   "cell_type": "code",
   "execution_count": 135,
   "metadata": {},
   "outputs": [
    {
     "data": {
      "image/png": "[encoded data removed]",
      "text/plain": [
       "<Figure size 432x288 with 1 Axes>"
      ]
     },
     "metadata": {
      "needs_background": "light"
     },
     "output_type": "display_data"
    }
   ],
   "source": [
    "fig2 = plt.figure()\n",
    "ax2 = fig2.add_axes([0,0,1,1])\n",
    "ax2.bar([str(int(yr)) for yr in plot_x_axis], twos, color = 'y', width = 0.5, label='twos')\n",
    "plt.xlabel(\"Year in 2000s\")\n",
    "plt.ylabel(\"Number of 2 Ratings\")\n",
    "plt.show()"
   ]
  },
  {
   "cell_type": "code",
   "execution_count": 136,
   "metadata": {},
   "outputs": [
    {
     "data": {
      "image/png": "[encoded data removed]",
      "text/plain": [
       "<Figure size 432x288 with 1 Axes>"
      ]
     },
     "metadata": {
      "needs_background": "light"
     },
     "output_type": "display_data"
    }
   ],
   "source": [
    "fig3 = plt.figure()\n",
    "ax3 = fig3.add_axes([0,0,1,1])\n",
    "ax3.bar([str(int(yr)) for yr in plot_x_axis], threes, color = 'r', width = 0.5, label='threes')\n",
    "plt.xlabel(\"Year in 2000s\")\n",
    "plt.ylabel(\"Number of 3 Ratings\")\n",
    "plt.show()"
   ]
  },
  {
   "cell_type": "code",
   "execution_count": 137,
   "metadata": {
    "scrolled": true
   },
   "outputs": [
    {
     "data": {
      "image/png": "[encoded data removed]",
      "text/plain": [
       "<Figure size 432x288 with 1 Axes>"
      ]
     },
     "metadata": {
      "needs_background": "light"
     },
     "output_type": "display_data"
    }
   ],
   "source": [
    "fig4 = plt.figure()\n",
    "ax4 = fig4.add_axes([0,0,1,1])\n",
    "ax4.bar([str(int(yr)) for yr in plot_x_axis], fours, color = 'orange', width = 0.5, label='fours')\n",
    "plt.xlabel(\"Year in 2000s\")\n",
    "plt.ylabel(\"Number of 4 Ratings\")\n",
    "plt.show()"
   ]
  },
  {
   "cell_type": "code",
   "execution_count": 138,
   "metadata": {},
   "outputs": [
    {
     "data": {
      "image/png": "[encoded data removed]",
      "text/plain": [
       "<Figure size 432x288 with 1 Axes>"
      ]
     },
     "metadata": {
      "needs_background": "light"
     },
     "output_type": "display_data"
    }
   ],
   "source": [
    "fig5 = plt.figure()\n",
    "ax5 = fig5.add_axes([0,0,1,1])\n",
    "ax5.bar([str(int(yr)) for yr in plot_x_axis], fives, color = 'maroon', width = 0.5, label='fives')\n",
    "plt.xlabel(\"Year in 2000s\")\n",
    "plt.ylabel(\"Number of 5 Ratings\")\n",
    "plt.show()"
   ]
  },
  {
   "cell_type": "code",
   "execution_count": 23,
   "metadata": {},
   "outputs": [
    {
     "data": {
      "image/png": "[encoded data removed]",
      "text/plain": [
       "<Figure size 432x288 with 1 Axes>"
      ]
     },
     "metadata": {
      "needs_background": "light"
     },
     "output_type": "display_data"
    }
   ],
   "source": [
    "rating_keys = list(occurenceperRating.keys())\n",
    "\n",
    "rating_occurences = list(occurenceperRating.values())\n",
    "plt.bar(range(len(occurenceperRating)), rating_occurences)\n",
    "plt.show()"
   ]
  },
  {
   "cell_type": "code",
   "execution_count": 24,
   "metadata": {},
   "outputs": [],
   "source": []
  },
  {
   "cell_type": "code",
   "execution_count": null,
   "metadata": {},
   "outputs": [],
   "source": []
  },
  {
   "cell_type": "code",
   "execution_count": null,
   "metadata": {},
   "outputs": [],
   "source": []
  },
  {
   "cell_type": "code",
   "execution_count": 26,
   "metadata": {},
   "outputs": [],
   "source": [
    "## RAW_recipes parsing"
   ]
  },
  {
   "cell_type": "code",
   "execution_count": 3,
   "metadata": {},
   "outputs": [],
   "source": [
    "data_raw_recipes = pd.read_csv(\"RAW_recipes.csv\")"
   ]
  },
  {
   "cell_type": "code",
   "execution_count": 4,
   "metadata": {},
   "outputs": [
    {
     "data": {
      "text/plain": [
       "(231637, 12)"
      ]
     },
     "execution_count": 4,
     "metadata": {},
     "output_type": "execute_result"
    }
   ],
   "source": [
    "data_raw_recipes.shape"
   ]
  },
  {
   "cell_type": "code",
   "execution_count": 5,
   "metadata": {},
   "outputs": [],
   "source": [
    "#data_raw_recipes.head"
   ]
  },
  {
   "cell_type": "code",
   "execution_count": 6,
   "metadata": {},
   "outputs": [
    {
     "data": {
      "text/plain": [
       "Index(['name', 'id', 'minutes', 'contributor_id', 'submitted', 'tags',\n",
       "       'nutrition', 'n_steps', 'steps', 'description', 'ingredients',\n",
       "       'n_ingredients'],\n",
       "      dtype='object')"
      ]
     },
     "execution_count": 6,
     "metadata": {},
     "output_type": "execute_result"
    }
   ],
   "source": [
    "data_raw_recipes.columns"
   ]
  },
  {
   "cell_type": "code",
   "execution_count": 7,
   "metadata": {},
   "outputs": [
    {
     "data": {
      "text/plain": [
       "name                     arriba   baked winter squash mexican style\n",
       "id                                                           137739\n",
       "minutes                                                          55\n",
       "contributor_id                                                47892\n",
       "submitted                                                2005-09-16\n",
       "tags              ['60-minutes-or-less', 'time-to-make', 'course...\n",
       "nutrition                     [51.5, 0.0, 13.0, 0.0, 2.0, 0.0, 4.0]\n",
       "n_steps                                                          11\n",
       "steps             ['make a choice and proceed with recipe', 'dep...\n",
       "description       autumn is my favorite time of year to cook! th...\n",
       "ingredients       ['winter squash', 'mexican seasoning', 'mixed ...\n",
       "n_ingredients                                                     7\n",
       "Name: 0, dtype: object"
      ]
     },
     "execution_count": 7,
     "metadata": {},
     "output_type": "execute_result"
    }
   ],
   "source": [
    "data_raw_recipes.iloc[0,:]"
   ]
  },
  {
   "cell_type": "code",
   "execution_count": 19,
   "metadata": {},
   "outputs": [],
   "source": [
    "features_per_recipe = defaultdict(list)\n",
    "\n",
    "\n",
    "#all_users = set()\n",
    "for index, row in data_raw_recipes.iterrows():\n",
    "    name,recipe_id,mins,cont_id,sub,tag,nutri,n_steps,steps,descrip,ingred,n_ingred =  row['name'], row['id'],row['minutes'],row['contributor_id'], row['submitted'], row['tags'], row['nutrition'],row['n_steps'],row['steps'], row['description'],row['ingredients'], row['n_ingredients']\n",
    "    features_per_recipe[recipe_id] = [name,mins,cont_id,sub,tag,nutri,n_steps,steps,descrip,ingred,n_ingred]\n",
    "    "
   ]
  },
  {
   "cell_type": "code",
   "execution_count": 9,
   "metadata": {},
   "outputs": [
    {
     "name": "stdout",
     "output_type": "stream",
     "text": [
      "['arriba   baked winter squash mexican style', 55, 47892, '2005-09-16', \"['60-minutes-or-less', 'time-to-make', 'course', 'main-ingredient', 'cuisine', 'preparation', 'occasion', 'north-american', 'side-dishes', 'vegetables', 'mexican', 'easy', 'fall', 'holiday-event', 'vegetarian', 'winter', 'dietary', 'christmas', 'seasonal', 'squash']\", '[51.5, 0.0, 13.0, 0.0, 2.0, 0.0, 4.0]', 11, \"['make a choice and proceed with recipe', 'depending on size of squash , cut into half or fourths', 'remove seeds', 'for spicy squash , drizzle olive oil or melted butter over each cut squash piece', 'season with mexican seasoning mix ii', 'for sweet squash , drizzle melted honey , butter , grated piloncillo over each cut squash piece', 'season with sweet mexican spice mix', 'bake at 350 degrees , again depending on size , for 40 minutes up to an hour , until a fork can easily pierce the skin', 'be careful not to burn the squash especially if you opt to use sugar or butter', 'if you feel more comfortable , cover the squash with aluminum foil the first half hour , give or take , of baking', 'if desired , season with salt']\", 'autumn is my favorite time of year to cook! this recipe \\r\\ncan be prepared either spicy or sweet, your choice!\\r\\ntwo of my posted mexican-inspired seasoning mix recipes are offered as suggestions.', \"['winter squash', 'mexican seasoning', 'mixed spice', 'honey', 'butter', 'olive oil', 'salt']\", 7]\n"
     ]
    }
   ],
   "source": [
    "print(features_per_recipe[137739])"
   ]
  },
  {
   "cell_type": "code",
   "execution_count": 23,
   "metadata": {},
   "outputs": [],
   "source": [
    "all_tags = set()\n",
    "for x in features_per_recipe.keys():\n",
    "    tag = features_per_recipe[x][4]\n",
    "    tag = tag.replace('[', '')\n",
    "    tag = tag.replace(']', '')\n",
    "    tag = tag.replace('\\'', '')\n",
    "    tag = tag.split(\",\")\n",
    "    for y in tag:\n",
    "        all_tags.add(y)\n",
    "    #print(tag)"
   ]
  },
  {
   "cell_type": "code",
   "execution_count": 24,
   "metadata": {},
   "outputs": [
    {
     "data": {
      "text/plain": [
       "572"
      ]
     },
     "execution_count": 24,
     "metadata": {},
     "output_type": "execute_result"
    }
   ],
   "source": [
    "len(all_tags)"
   ]
  },
  {
   "cell_type": "code",
   "execution_count": 34,
   "metadata": {},
   "outputs": [],
   "source": [
    "ratingsperNSteps = defaultdict(list)\n",
    "for x in ratingsperRecipe:\n",
    "    for y in ratingsperRecipe[x]:\n",
    "        ratingsperNSteps[features_per_recipe[x][6]].append(y)\n"
   ]
  },
  {
   "cell_type": "code",
   "execution_count": 46,
   "metadata": {},
   "outputs": [
    {
     "name": "stdout",
     "output_type": "stream",
     "text": [
      "0 4.5 2\n",
      "1 4.468806461898183 9409\n",
      "2 4.483566239942669 30699\n",
      "3 4.452875561886088 54059\n",
      "4 4.444663950842678 73397\n",
      "5 4.412922109599436 92245\n",
      "6 4.4190022897939185 100009\n",
      "7 4.417713073052294 107909\n",
      "8 4.401365141582753 103579\n",
      "9 4.406912504491556 89056\n",
      "10 4.402770533364063 82439\n",
      "11 4.413317862802807 70672\n",
      "12 4.406247042120208 52825\n",
      "13 4.413934180852975 50107\n",
      "14 4.417376190236284 39698\n",
      "15 4.393035131975635 32506\n",
      "16 4.384012721560718 25783\n",
      "17 4.380899475602169 22502\n",
      "18 4.357426011403747 18415\n",
      "19 4.3601200865740415 14323\n",
      "20 4.391911208273775 11893\n",
      "21 4.3907522759942506 8348\n",
      "22 4.396086569819152 6746\n",
      "23 4.385754451733833 5335\n",
      "24 4.345753424657534 5475\n",
      "25 4.296045197740113 3540\n",
      "26 4.3455642121135964 3979\n",
      "27 4.34287594603488 3039\n",
      "28 4.484825201690358 2603\n",
      "29 4.3816936488169365 1606\n",
      "30 4.283418553688824 1369\n",
      "31 4.258741258741258 1001\n",
      "32 4.329373650107992 926\n",
      "33 4.330827067669173 798\n",
      "34 4.33442088091354 613\n",
      "35 4.461971830985916 710\n",
      "36 4.355432780847146 543\n",
      "37 4.26647564469914 349\n",
      "38 3.9401041666666665 384\n",
      "39 4.149295774647888 355\n",
      "40 4.258928571428571 224\n",
      "41 4.1461538461538465 260\n",
      "42 4.219251336898396 187\n",
      "43 4.352112676056338 142\n",
      "44 4.143939393939394 132\n",
      "45 3.8234165067178503 521\n",
      "46 3.709090909090909 110\n",
      "47 3.6804123711340204 97\n",
      "48 4.297101449275362 138\n",
      "49 4.407185628742515 334\n",
      "50 4.087912087912088 91\n",
      "51 3.3846153846153846 39\n",
      "52 3.090909090909091 165\n",
      "53 3.6451612903225805 31\n",
      "54 4.6875 32\n",
      "55 3.4722222222222223 72\n",
      "56 4.266666666666667 75\n",
      "57 3.8181818181818183 22\n",
      "58 4.105263157894737 19\n",
      "59 3.75 16\n",
      "60 4.0 12\n",
      "61 4.3478260869565215 23\n",
      "62 3.6923076923076925 13\n",
      "63 3.4210526315789473 19\n",
      "64 3.967741935483871 31\n",
      "65 4.230769230769231 13\n",
      "66 5.0 7\n",
      "67 5.0 2\n",
      "68 4.5 2\n",
      "69 4.777777777777778 9\n",
      "70 3.732394366197183 142\n",
      "71 0.0 1\n",
      "72 0.0 1\n",
      "73 2.5 2\n",
      "75 5.0 4\n",
      "76 5.0 7\n",
      "77 5.0 1\n",
      "79 3.1666666666666665 6\n",
      "80 4.333333333333333 18\n",
      "81 2.25 4\n",
      "82 4.7105263157894735 38\n",
      "85 5.0 1\n",
      "86 5.0 2\n",
      "87 3.5 10\n",
      "88 2.9 10\n",
      "90 0.0 1\n",
      "93 2.5 4\n",
      "97 4.818181818181818 11\n",
      "98 5.0 1\n",
      "100 5.0 3\n",
      "108 5.0 1\n",
      "110 3.5 6\n",
      "113 5.0 2\n",
      "145 5.0 7\n"
     ]
    }
   ],
   "source": [
    "avg_ratingsperNSteps = defaultdict(list)\n",
    "ratingsperNSteps = OrderedDict(sorted(ratingsperNSteps.items()))\n",
    "for x in ratingsperNSteps:\n",
    "    avg_ratingsperNSteps[x] = [sum(ratingsperNSteps[x])/len(ratingsperNSteps[x]),len(ratingsperNSteps[x])]\n",
    "    print(x,avg_ratingsperNSteps[x][0],avg_ratingsperNSteps[x][1])\n"
   ]
  },
  {
   "cell_type": "code",
   "execution_count": 42,
   "metadata": {},
   "outputs": [
    {
     "data": {
      "text/plain": [
       "94"
      ]
     },
     "execution_count": 42,
     "metadata": {},
     "output_type": "execute_result"
    }
   ],
   "source": [
    "len(avg_ratingsperNSteps)"
   ]
  },
  {
   "cell_type": "code",
   "execution_count": null,
   "metadata": {},
   "outputs": [],
   "source": []
  },
  {
   "cell_type": "code",
   "execution_count": null,
   "metadata": {},
   "outputs": [],
   "source": []
  },
  {
   "cell_type": "code",
   "execution_count": null,
   "metadata": {},
   "outputs": [],
   "source": []
  },
  {
   "cell_type": "code",
   "execution_count": null,
   "metadata": {},
   "outputs": [],
   "source": []
  },
  {
   "cell_type": "code",
   "execution_count": null,
   "metadata": {},
   "outputs": [],
   "source": []
  },
  {
   "cell_type": "code",
   "execution_count": 7,
   "metadata": {},
   "outputs": [],
   "source": [
    "data_pp_recipes = pd.read_csv(\"PP_recipes.csv\")"
   ]
  },
  {
   "cell_type": "code",
   "execution_count": 8,
   "metadata": {},
   "outputs": [
    {
     "data": {
      "text/plain": [
       "(178265, 8)"
      ]
     },
     "execution_count": 8,
     "metadata": {},
     "output_type": "execute_result"
    }
   ],
   "source": [
    "data_pp_recipes.shape"
   ]
  },
  {
   "cell_type": "code",
   "execution_count": null,
   "metadata": {},
   "outputs": [],
   "source": []
  },
  {
   "cell_type": "code",
   "execution_count": null,
   "metadata": {},
   "outputs": [],
   "source": []
  },
  {
   "cell_type": "markdown",
   "metadata": {},
   "source": [
    "### End of code "
   ]
  },
  {
   "cell_type": "code",
   "execution_count": null,
   "metadata": {},
   "outputs": [],
   "source": [
    "imgCountAll = defaultdict(int)\n",
    "totalliked = 0\n",
    "\n",
    "for user,img,_ in interactions:\n",
    "    imgCountAll[img] += 1\n",
    "    totalliked+= 1\n",
    "\n",
    "mostPopular = [(imgCountAll[x], x) for x in imgCountAll]\n",
    "mostPopular.sort()\n",
    "mostPopular.reverse()\n",
    "print(totalliked)\n"
   ]
  },
  {
   "cell_type": "code",
   "execution_count": null,
   "metadata": {},
   "outputs": [],
   "source": [
    "return2 = set()\n",
    "count = 0\n",
    "threshold = 0.75\n",
    "for imgCount, img in mostPopular:\n",
    "    count += imgCount\n",
    "    return2.add(img)\n",
    "    if count > totalliked*threshold:\n",
    "        break"
   ]
  },
  {
   "cell_type": "code",
   "execution_count": null,
   "metadata": {},
   "outputs": [],
   "source": [
    "def Jaccard(s1, s2):\n",
    "  if not isinstance(s1,set):\n",
    "    s1 = set(s1)\n",
    "  if not isinstance(s2,set):\n",
    "    s2 = set(s2)\n",
    "  numer = len(s1.intersection(s2))\n",
    "  denom = len(s1.union(s2))\n",
    "  if denom == 0:\n",
    "      return 0\n",
    "  return numer / denom\n",
    "\n",
    "def predictRead(user, img):\n",
    "  Jsimilarities = []\n",
    "  for d in imgsperUser[user]:\n",
    "    #d is img user has liked in training\n",
    "    if d == img: continue\n",
    "    Jsimilarities.append(Jaccard(userperImgs[img],userperImgs[d]))\n",
    "  if Jsimilarities and max(Jsimilarities)> 0.003 or img in return2:\n",
    "    return 1\n",
    "  return 0\n",
    "  # mx = 0\n",
    "  # if Jsimilarities:\n",
    "  #     mx = max(Jsimilarities)\n",
    "  # elif len(Jsimilarities) == 0:\n",
    "  #   mx = 0\n",
    "  # if img in return2:\n",
    "  #     return 1 + mx\n",
    "  # return mx"
   ]
  },
  {
   "cell_type": "code",
   "execution_count": null,
   "metadata": {},
   "outputs": [],
   "source": [
    "likedValid = interactions[990000:]\n",
    "likedValid = [i + (1,) for i in likedValid]\n",
    "\n",
    "\n",
    "imgsperUserVal = defaultdict(list)\n",
    "for u,img,_,_ in likedValid:\n",
    "    imgsperUserVal[u].append(img)\n",
    "\n",
    "len(likedValid)"
   ]
  },
  {
   "cell_type": "code",
   "execution_count": null,
   "metadata": {},
   "outputs": [],
   "source": [
    "all_books = set(userperImgs.keys())\n",
    "val_pairs = set()\n",
    "for user in imgsperUserVal.keys():\n",
    "  no_books_read = len(imgsperUserVal[user])\n",
    "  books_not_read = list(all_books.difference(set(imgsperUser[user])))\n",
    "  for _ in range(no_books_read):\n",
    "    book = random.choice(books_not_read)\n",
    "    if (user,book, 'NA', 0) not in val_pairs:\n",
    "      book = book\n",
    "    else:\n",
    "      while (user,book, 'NA', 0) in val_pairs:\n",
    "        book = random.choice(books_not_read)\n",
    "    val_pairs.add((user,book,'NA',0))\n",
    "    likedValid.append((user,book,'NA',0)) \n",
    "\n",
    "len(likedValid)"
   ]
  },
  {
   "cell_type": "code",
   "execution_count": null,
   "metadata": {},
   "outputs": [],
   "source": [
    "preds = [predictRead(u,b) for u,b,_,_ in likedValid]\n",
    "correct = sum([likedValid[i][3]  == preds[i] for i in range(len(likedValid))])\n",
    "y = [x for _,_,_,x in likedValid]\n",
    "acc4 = correct/len(preds)\n",
    "acc4 "
   ]
  },
  {
   "cell_type": "code",
   "execution_count": null,
   "metadata": {},
   "outputs": [],
   "source": []
  }
 ],
 "metadata": {
  "kernelspec": {
   "display_name": "Python 3 (ipykernel)",
   "language": "python",
   "name": "python3"
  },
  "language_info": {
   "codemirror_mode": {
    "name": "ipython",
    "version": 3
   },
   "file_extension": ".py",
   "mimetype": "text/x-python",
   "name": "python",
   "nbconvert_exporter": "python",
   "pygments_lexer": "ipython3",
   "version": "3.9.5"
  },
  "vscode": {
   "interpreter": {
    "hash": "b9b97644c8ae1a16cf1dd9c5681dbbcd445c01cd0b31e49e4ce22d5a8dc8aae8"
   }
  }
 },
 "nbformat": 4,
 "nbformat_minor": 2
}
